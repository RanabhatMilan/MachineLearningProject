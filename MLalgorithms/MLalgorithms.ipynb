{
 "cells": [
  {
   "cell_type": "code",
   "execution_count": 55,
   "metadata": {
    "collapsed": false
   },
   "outputs": [
    {
     "name": "stdout",
     "output_type": "stream",
     "text": [
      "0.406143418509\n"
     ]
    },
    {
     "data": {
      "image/png": "[encoded data removed]",
      "text/plain": [
       "<matplotlib.figure.Figure at 0x67a00fcf60>"
      ]
     },
     "metadata": {},
     "output_type": "display_data"
    }
   ],
   "source": [
    "#using linear regression algorithm\n",
    "import pandas as pd\n",
    "import numpy as np\n",
    "import sklearn\n",
    "from sklearn.model_selection import train_test_split\n",
    "from sklearn import linear_model\n",
    "import matplotlib.pyplot as plt\n",
    "\n",
    "\n",
    "data = pd.read_csv('vgsales.csv')\n",
    "data = (data[['NA_Sales','EU_Sales','JP_Sales','Other_Sales','Global_Sales','Year']]).head(100)\n",
    "x = np.array(data.drop(['Year'],1))\n",
    "y = np.array(data['Year'])\n",
    "#print(x)\n",
    "#print(y)\n",
    "#print(data.)\n",
    "x_train,x_test,y_train,y_test = train_test_split(x,y,test_size=0.3)\n",
    "linear = linear_model.LinearRegression()\n",
    "linear.fit(x_train, y_train)\n",
    "accuracy = linear.score(x_test,y_test)\n",
    "print(accuracy)\n",
    "predictions = linear.predict(x_test)\n",
    "#For p in range(len(predictions)):\n",
    "#    print(predictions[p],x_test[p],y_test[p])\n",
    "plt.scatter(data['Global_Sales'],data['Year'])\n",
    "plt.xlabel(\"Global Sales\")\n",
    "plt.ylabel(\"Years\")\n",
    "plt.show()"
   ]
  },
  {
   "cell_type": "code",
   "execution_count": 54,
   "metadata": {
    "collapsed": false
   },
   "outputs": [
    {
     "name": "stdout",
     "output_type": "stream",
     "text": [
      "0.0333333333333\n"
     ]
    }
   ],
   "source": [
    "#using decision tree algorithm\n",
    "import pandas as pd\n",
    "import numpy as np\n",
    "from sklearn.tree import DecisionTreeClassifier\n",
    "data = pd.read_csv('vgsales.csv')\n",
    "data = data.head(100)\n",
    "x = np.array(data.drop(['Name','Genre','Platform','Publisher'],axis = 1))\n",
    "#print(x)\n",
    "y = np.array(data['Name'])\n",
    "x_train,x_test,y_train,y_test = train_test_split(x,y,test_size=0.3)\n",
    "model = DecisionTreeClassifier()\n",
    "model.fit(x_train,y_train)\n",
    "predictions = model.predict(x_test)\n",
    "accuracy = model.score(x_test,y_test)\n",
    "print(accuracy)\n",
    "#for p in range(5):\n",
    "#    print(predictions[p],x_test[p],y_test[p])\n",
    "\n"
   ]
  },
  {
   "cell_type": "code",
   "execution_count": 66,
   "metadata": {
    "collapsed": false
   },
   "outputs": [
    {
     "name": "stdout",
     "output_type": "stream",
     "text": [
      "0.924855491329\n",
      "Predicted:  acc Data:  (1, 1, 2, 1, 0, 2) Actual:  acc\n",
      "N:  (array([[ 1.,  1.,  1.,  1.,  1.,  1.,  1.,  1.,  1.]]), array([[ 398, 1045,  588,  236,  578,  915,  946,  713,  691]], dtype=int64))\n",
      "Predicted:  good Data:  (3, 1, 2, 1, 2, 2) Actual:  good\n",
      "N:  (array([[ 1.,  1.,  1.,  1.,  1.,  1.,  1.,  1.,  1.]]), array([[1505,  176, 1139,  131,  934,  722, 1195,  423, 1484]], dtype=int64))\n",
      "Predicted:  good Data:  (2, 0, 1, 0, 0, 1) Actual:  good\n",
      "N:  (array([[ 1.        ,  1.        ,  1.        ,  1.        ,  1.        ,\n",
      "         1.        ,  1.        ,  1.        ,  1.41421356]]), array([[1453, 1406,  950,  240, 1327, 1376, 1223,  175, 1087]], dtype=int64))\n",
      "Predicted:  good Data:  (2, 2, 3, 0, 1, 1) Actual:  good\n",
      "N:  (array([[ 1.,  1.,  1.,  1.,  1.,  1.,  1.,  1.,  1.]]), array([[ 965,  160,  419,  769, 1216,  746,   62,   63,  361]], dtype=int64))\n",
      "Predicted:  vgood Data:  (1, 2, 2, 1, 1, 0) Actual:  vgood\n",
      "N:  (array([[ 1.,  1.,  1.,  1.,  1.,  1.,  1.,  1.,  1.]]), array([[ 711, 1342,  916,  393,  889, 1275,   59, 1490,  749]], dtype=int64))\n"
     ]
    }
   ],
   "source": [
    "#Using KNN Algorithm\n",
    "import pandas as pd\n",
    "import numpy as np\n",
    "from sklearn.model_selection import train_test_split\n",
    "from sklearn import preprocessing\n",
    "from sklearn.neighbors import KNeighborsClassifier\n",
    "\n",
    "data = pd.read_csv('car.data')\n",
    "le = preprocessing.LabelEncoder()\n",
    "\n",
    "buying = le.fit_transform(list(data['buying']))\n",
    "maint = le.fit_transform(list(data['maint']))\n",
    "door = le.fit_transform(list(data['door']))\n",
    "persons = le.fit_transform(list(data['persons']))\n",
    "lug_boot = le.fit_transform(list(data['lug_boot']))\n",
    "safety = le.fit_transform(list(data['safety']))\n",
    "cls = le.fit_transform(list(data['class']))\n",
    "\n",
    "x = list(zip(buying,maint,door,persons,lug_boot,safety))\n",
    "y = list(cls)\n",
    "\n",
    "x_train,x_test,y_train,y_test = train_test_split(x,y,test_size=0.1)\n",
    "\n",
    "model = KNeighborsClassifier(n_neighbors = 9)\n",
    "model.fit(x_train,y_train)\n",
    "acc = model.score(x_test, y_test)\n",
    "print(acc)\n",
    "predicted = model.predict(x_test)\n",
    "names = ['unacc','acc','good','vgood']\n",
    "for  p in range(len(predicted)):\n",
    "    print(\"Predicted: \",names[predicted[p]],\"Data: \",x_test[p],\"Actual: \",names[y_test[p]])\n",
    "    n = model.kneighbors([x_test[p]],9)\n",
    "    print(\"N: \",n)"
   ]
  },
  {
   "cell_type": "code",
   "execution_count": 78,
   "metadata": {
    "collapsed": false
   },
   "outputs": [
    {
     "name": "stdout",
     "output_type": "stream",
     "text": [
      "0.982456140351\n"
     ]
    }
   ],
   "source": [
    "#Support Vector Machines(SVM) algorithm\n",
    "import sklearn\n",
    "from sklearn.metrics import accuracy_score\n",
    "from sklearn import datasets\n",
    "from sklearn import svm\n",
    "from sklearn.neighbors import KNeighborsClassifier\n",
    "from sklearn.model_selection import train_test_split\n",
    "cancer = datasets.load_breast_cancer()\n",
    "#print(cancer.feature_names)\n",
    "#print(cancer.target_names)\n",
    "x = cancer.data\n",
    "y = cancer.target\n",
    "x_train,x_test,y_train,y_test = train_test_split(x,y,test_size=0.1)\n",
    "clf = svm.SVC(kernel = \"linear\")\n",
    "#clf = KNeighborsClassifier(n_neighbors = 10)\n",
    "clf.fit(x_train,y_train)\n",
    "y_pred = clf.predict(x_test)\n",
    "acc = accuracy_score(y_test,y_pred)\n",
    "print(acc)"
   ]
  },
  {
   "cell_type": "code",
   "execution_count": 84,
   "metadata": {
    "collapsed": false
   },
   "outputs": [
    {
     "name": "stdout",
     "output_type": "stream",
     "text": [
      "[0 1 2 ..., 8 9 8]\n",
      "2        \t69412\t0.599\t0.647\t0.622\t0.464\t0.595\t0.145\n"
     ]
    }
   ],
   "source": [
    "#using k means clustering algorithm\n",
    "import numpy as np\n",
    "import sklearn\n",
    "from sklearn.preprocessing import scale\n",
    "from sklearn.datasets import load_digits\n",
    "from sklearn.cluster import KMeans\n",
    "from sklearn import metrics\n",
    "\n",
    "digits = load_digits()\n",
    "data = scale(digits.data)\n",
    "y = digits.target\n",
    "print(y)\n",
    "k = 10\n",
    "samples, features = data.shape\n",
    "\n",
    "\n",
    "def bench_k_means(estimator, name, data):\n",
    "    estimator.fit(data)\n",
    "    print('%-9s\\t%i\\t%.3f\\t%.3f\\t%.3f\\t%.3f\\t%.3f\\t%.3f'\n",
    "          % (name, estimator.inertia_,\n",
    "             metrics.homogeneity_score(y, estimator.labels_),\n",
    "             metrics.completeness_score(y, estimator.labels_),\n",
    "             metrics.v_measure_score(y, estimator.labels_),\n",
    "             metrics.adjusted_rand_score(y, estimator.labels_),\n",
    "             metrics.adjusted_mutual_info_score(y,  estimator.labels_),\n",
    "             metrics.silhouette_score(data, estimator.labels_,\n",
    "                                      metric='euclidean')))\n",
    "\n",
    "clf = KMeans(n_clusters=k, init=\"random\", n_init=10)\n",
    "bench_k_means(clf, \"2\", data)"
   ]
  },
  {
   "cell_type": "code",
   "execution_count": null,
   "metadata": {
    "collapsed": true
   },
   "outputs": [],
   "source": []
  },
  {
   "cell_type": "code",
   "execution_count": null,
   "metadata": {
    "collapsed": true
   },
   "outputs": [],
   "source": []
  }
 ],
 "metadata": {
  "kernelspec": {
   "display_name": "Python 3",
   "language": "python",
   "name": "python3"
  },
  "language_info": {
   "codemirror_mode": {
    "name": "ipython",
    "version": 3
   },
   "file_extension": ".py",
   "mimetype": "text/x-python",
   "name": "python",
   "nbconvert_exporter": "python",
   "pygments_lexer": "ipython3",
   "version": "3.6.0"
  }
 },
 "nbformat": 4,
 "nbformat_minor": 2
}
